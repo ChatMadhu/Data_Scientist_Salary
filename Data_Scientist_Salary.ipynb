{
  "nbformat": 4,
  "nbformat_minor": 0,
  "metadata": {
    "colab": {
      "provenance": [],
      "authorship_tag": "ABX9TyPLeUuQmkO4lDBxGz19oGcN",
      "include_colab_link": true
    },
    "kernelspec": {
      "name": "python3",
      "display_name": "Python 3"
    },
    "language_info": {
      "name": "python"
    }
  },
  "cells": [
    {
      "cell_type": "markdown",
      "metadata": {
        "id": "view-in-github",
        "colab_type": "text"
      },
      "source": [
        "<a href=\"https://colab.research.google.com/github/ChatMadhu/Data_Scientist_Salary/blob/main/Data_Scientist_Salary.ipynb\" target=\"_parent\"><img src=\"https://colab.research.google.com/assets/colab-badge.svg\" alt=\"Open In Colab\"/></a>"
      ]
    },
    {
      "cell_type": "code",
      "source": [
        "import pandas as pd \n"
      ],
      "metadata": {
        "id": "Ea5R0uQtC3oO"
      },
      "execution_count": 1,
      "outputs": []
    },
    {
      "cell_type": "code",
      "source": [],
      "metadata": {
        "id": "nvG9IOS-pQht"
      },
      "execution_count": null,
      "outputs": []
    },
    {
      "cell_type": "code",
      "source": [
        "df = pd.read_csv('/content/glassdoor_jobs.csv')"
      ],
      "metadata": {
        "id": "Q0EW9EViIZOO"
      },
      "execution_count": 20,
      "outputs": []
    },
    {
      "cell_type": "code",
      "source": [
        "df.head"
      ],
      "metadata": {
        "colab": {
          "base_uri": "https://localhost:8080/"
        },
        "id": "ELNcIClFIpb6",
        "outputId": "9ae84514-ac24-44c4-ddde-0304de2463e3"
      },
      "execution_count": 21,
      "outputs": [
        {
          "output_type": "execute_result",
          "data": {
            "text/plain": [
              "<bound method NDFrame.head of      Unnamed: 0                                          Job Title  \\\n",
              "0             0                                     Data Scientist   \n",
              "1             1                          Healthcare Data Scientist   \n",
              "2             2                                     Data Scientist   \n",
              "3             3                                     Data Scientist   \n",
              "4             4                                     Data Scientist   \n",
              "..          ...                                                ...   \n",
              "951         951                               Senior Data Engineer   \n",
              "952         952  Project Scientist - Auton Lab, Robotics Institute   \n",
              "953         953                               Data Science Manager   \n",
              "954         954                                      Data Engineer   \n",
              "955         955          Research Scientist – Security and Privacy   \n",
              "\n",
              "                 Salary Estimate  \\\n",
              "0     $53K-$91K (Glassdoor est.)   \n",
              "1    $63K-$112K (Glassdoor est.)   \n",
              "2     $80K-$90K (Glassdoor est.)   \n",
              "3     $56K-$97K (Glassdoor est.)   \n",
              "4    $86K-$143K (Glassdoor est.)   \n",
              "..                           ...   \n",
              "951  $72K-$133K (Glassdoor est.)   \n",
              "952   $56K-$91K (Glassdoor est.)   \n",
              "953  $95K-$160K (Glassdoor est.)   \n",
              "954                           -1   \n",
              "955  $61K-$126K (Glassdoor est.)   \n",
              "\n",
              "                                       Job Description  Rating  \\\n",
              "0    Data Scientist\\nLocation: Albuquerque, NM\\nEdu...     3.8   \n",
              "1    What You Will Do:\\n\\nI. General Summary\\n\\nThe...     3.4   \n",
              "2    KnowBe4, Inc. is a high growth information sec...     4.8   \n",
              "3    *Organization and Job ID**\\nJob ID: 310709\\n\\n...     3.8   \n",
              "4    Data Scientist\\nAffinity Solutions / Marketing...     2.9   \n",
              "..                                                 ...     ...   \n",
              "951  THE CHALLENGE\\nEventbrite has a world-class da...     4.4   \n",
              "952  The Auton Lab at Carnegie Mellon University is...     2.6   \n",
              "953  Data Science ManagerResponsibilities:\\n\\nOvers...     3.2   \n",
              "954  Loading...\\n\\nTitle: Data Engineer\\n\\nLocation...     4.8   \n",
              "955  Returning Candidate? Log back in to the Career...     3.6   \n",
              "\n",
              "                                   Company Name         Location  \\\n",
              "0                        Tecolote Research\\n3.8  Albuquerque, NM   \n",
              "1    University of Maryland Medical System\\n3.4    Linthicum, MD   \n",
              "2                                  KnowBe4\\n4.8   Clearwater, FL   \n",
              "3                                     PNNL\\n3.8     Richland, WA   \n",
              "4                       Affinity Solutions\\n2.9     New York, NY   \n",
              "..                                          ...              ...   \n",
              "951                             Eventbrite\\n4.4    Nashville, TN   \n",
              "952         Software Engineering Institute\\n2.6   Pittsburgh, PA   \n",
              "953                           Numeric, LLC\\n3.2    Allentown, PA   \n",
              "954                                   IGNW\\n4.8       Austin, TX   \n",
              "955           Riverside Research Institute\\n3.6  Beavercreek, OH   \n",
              "\n",
              "          Headquarters                    Size  Founded  \\\n",
              "0           Goleta, CA   501 to 1000 employees     1973   \n",
              "1        Baltimore, MD        10000+ employees     1984   \n",
              "2       Clearwater, FL   501 to 1000 employees     2010   \n",
              "3         Richland, WA  1001 to 5000 employees     1965   \n",
              "4         New York, NY     51 to 200 employees     1998   \n",
              "..                 ...                     ...      ...   \n",
              "951  San Francisco, CA  1001 to 5000 employees     2006   \n",
              "952     Pittsburgh, PA   501 to 1000 employees     1984   \n",
              "953    Chadds Ford, PA       1 to 50 employees       -1   \n",
              "954       Portland, OR    201 to 500 employees     2015   \n",
              "955      Arlington, VA   501 to 1000 employees     1967   \n",
              "\n",
              "          Type of ownership                          Industry  \\\n",
              "0         Company - Private               Aerospace & Defense   \n",
              "1        Other Organization  Health Care Services & Hospitals   \n",
              "2         Company - Private                 Security Services   \n",
              "3                Government                            Energy   \n",
              "4         Company - Private           Advertising & Marketing   \n",
              "..                      ...                               ...   \n",
              "951        Company - Public                          Internet   \n",
              "952    College / University           Colleges & Universities   \n",
              "953       Company - Private            Staffing & Outsourcing   \n",
              "954       Company - Private                       IT Services   \n",
              "955  Nonprofit Organization                  Federal Agencies   \n",
              "\n",
              "                           Sector                           Revenue  \\\n",
              "0             Aerospace & Defense         $50 to $100 million (USD)   \n",
              "1                     Health Care            $2 to $5 billion (USD)   \n",
              "2               Business Services        $100 to $500 million (USD)   \n",
              "3    Oil, Gas, Energy & Utilities  $500 million to $1 billion (USD)   \n",
              "4               Business Services          Unknown / Non-Applicable   \n",
              "..                            ...                               ...   \n",
              "951        Information Technology        $100 to $500 million (USD)   \n",
              "952                     Education          Unknown / Non-Applicable   \n",
              "953             Business Services           $5 to $10 million (USD)   \n",
              "954        Information Technology          $25 to $50 million (USD)   \n",
              "955                    Government         $50 to $100 million (USD)   \n",
              "\n",
              "                                           Competitors  \n",
              "0                                                   -1  \n",
              "1                                                   -1  \n",
              "2                                                   -1  \n",
              "3    Oak Ridge National Laboratory, National Renewa...  \n",
              "4                 Commerce Signals, Cardlytics, Yodlee  \n",
              "..                                                 ...  \n",
              "951                    See Tickets, TicketWeb, Vendini  \n",
              "952                                                 -1  \n",
              "953                                                 -1  \n",
              "954                                             Slalom  \n",
              "955                                                 -1  \n",
              "\n",
              "[956 rows x 15 columns]>"
            ]
          },
          "metadata": {},
          "execution_count": 21
        }
      ]
    },
    {
      "cell_type": "code",
      "source": [
        "#salary parsing\n",
        "#company name text only \n",
        "#state field\n",
        "#age of company\n",
        "#parsingof job descriotion(pthon, etc)\n"
      ],
      "metadata": {
        "id": "LK_q_7GmIrkN"
      },
      "execution_count": null,
      "outputs": []
    },
    {
      "cell_type": "code",
      "source": [
        "df = df[df['Salary Estimate']!= '-1']"
      ],
      "metadata": {
        "id": "ZAiPXNqijnBN"
      },
      "execution_count": 22,
      "outputs": []
    },
    {
      "cell_type": "code",
      "source": [
        "salary = df['Salary Estimate'].apply(lambda x: x.split('(')[0])\n"
      ],
      "metadata": {
        "id": "L11u-r2cj-3i"
      },
      "execution_count": 38,
      "outputs": []
    },
    {
      "cell_type": "code",
      "source": [
        "salary.head"
      ],
      "metadata": {
        "colab": {
          "base_uri": "https://localhost:8080/"
        },
        "id": "yfrSCfvknkgR",
        "outputId": "84d185aa-8d0c-4e44-9044-c3f598b27ce5"
      },
      "execution_count": 39,
      "outputs": [
        {
          "output_type": "execute_result",
          "data": {
            "text/plain": [
              "<bound method NDFrame.head of 0       $53K-$91K \n",
              "1      $63K-$112K \n",
              "2       $80K-$90K \n",
              "3       $56K-$97K \n",
              "4      $86K-$143K \n",
              "          ...     \n",
              "950    $58K-$111K \n",
              "951    $72K-$133K \n",
              "952     $56K-$91K \n",
              "953    $95K-$160K \n",
              "955    $61K-$126K \n",
              "Name: Salary Estimate, Length: 742, dtype: object>"
            ]
          },
          "metadata": {},
          "execution_count": 39
        }
      ]
    },
    {
      "cell_type": "code",
      "source": [
        "minus_kd = salary.apply(lambda x: x.replace('K','').replace('$',''))\n"
      ],
      "metadata": {
        "id": "kLbWxZBKnxKA"
      },
      "execution_count": 40,
      "outputs": []
    },
    {
      "cell_type": "code",
      "source": [
        "minus_kd.head"
      ],
      "metadata": {
        "colab": {
          "base_uri": "https://localhost:8080/"
        },
        "id": "Xfq-MSZ1rIEX",
        "outputId": "a60321c1-5d9c-41d6-ab55-2ffbc01395c1"
      },
      "execution_count": 42,
      "outputs": [
        {
          "output_type": "execute_result",
          "data": {
            "text/plain": [
              "<bound method NDFrame.head of 0       53-91 \n",
              "1      63-112 \n",
              "2       80-90 \n",
              "3       56-97 \n",
              "4      86-143 \n",
              "        ...   \n",
              "950    58-111 \n",
              "951    72-133 \n",
              "952     56-91 \n",
              "953    95-160 \n",
              "955    61-126 \n",
              "Name: Salary Estimate, Length: 742, dtype: object>"
            ]
          },
          "metadata": {},
          "execution_count": 42
        }
      ]
    },
    {
      "cell_type": "code",
      "source": [
        "df['hourly'] = df['Salary Estimate'].apply(lambda x: 1 if 'per hour' in x.lower() else 0 )  \n",
        "df['Employer_provided'] = df['Salary Estimate'].apply(lambda x: 1 if 'Employer provided salary' in x.lower() else 0 )  "
      ],
      "metadata": {
        "colab": {
          "base_uri": "https://localhost:8080/"
        },
        "id": "GLJjwNfgrzdP",
        "outputId": "d065704c-da1b-453c-82b9-33168da13a4b"
      },
      "execution_count": 46,
      "outputs": [
        {
          "output_type": "stream",
          "name": "stderr",
          "text": [
            "<ipython-input-46-339c5d5fd47f>:1: SettingWithCopyWarning: \n",
            "A value is trying to be set on a copy of a slice from a DataFrame.\n",
            "Try using .loc[row_indexer,col_indexer] = value instead\n",
            "\n",
            "See the caveats in the documentation: https://pandas.pydata.org/pandas-docs/stable/user_guide/indexing.html#returning-a-view-versus-a-copy\n",
            "  df['hourly'] = df['Salary Estimate'].apply(lambda x: 1 if 'per hour' in x.lower() else 0 )\n",
            "<ipython-input-46-339c5d5fd47f>:2: SettingWithCopyWarning: \n",
            "A value is trying to be set on a copy of a slice from a DataFrame.\n",
            "Try using .loc[row_indexer,col_indexer] = value instead\n",
            "\n",
            "See the caveats in the documentation: https://pandas.pydata.org/pandas-docs/stable/user_guide/indexing.html#returning-a-view-versus-a-copy\n",
            "  df['Employer_provided'] = df['Salary Estimate'].apply(lambda x: 1 if 'Employer provided salary' in x.lower() else 0 )\n"
          ]
        }
      ]
    },
    {
      "cell_type": "code",
      "source": [
        "df.head"
      ],
      "metadata": {
        "colab": {
          "base_uri": "https://localhost:8080/"
        },
        "id": "9U9znhSzs0Ym",
        "outputId": "9706aa0a-328a-4aca-d521-85b95cb918e4"
      },
      "execution_count": 47,
      "outputs": [
        {
          "output_type": "execute_result",
          "data": {
            "text/plain": [
              "<bound method NDFrame.head of      Unnamed: 0                                          Job Title  \\\n",
              "0             0                                     Data Scientist   \n",
              "1             1                          Healthcare Data Scientist   \n",
              "2             2                                     Data Scientist   \n",
              "3             3                                     Data Scientist   \n",
              "4             4                                     Data Scientist   \n",
              "..          ...                                                ...   \n",
              "950         950           Sr Scientist, Immuno-Oncology - Oncology   \n",
              "951         951                               Senior Data Engineer   \n",
              "952         952  Project Scientist - Auton Lab, Robotics Institute   \n",
              "953         953                               Data Science Manager   \n",
              "955         955          Research Scientist – Security and Privacy   \n",
              "\n",
              "                 Salary Estimate  \\\n",
              "0     $53K-$91K (Glassdoor est.)   \n",
              "1    $63K-$112K (Glassdoor est.)   \n",
              "2     $80K-$90K (Glassdoor est.)   \n",
              "3     $56K-$97K (Glassdoor est.)   \n",
              "4    $86K-$143K (Glassdoor est.)   \n",
              "..                           ...   \n",
              "950  $58K-$111K (Glassdoor est.)   \n",
              "951  $72K-$133K (Glassdoor est.)   \n",
              "952   $56K-$91K (Glassdoor est.)   \n",
              "953  $95K-$160K (Glassdoor est.)   \n",
              "955  $61K-$126K (Glassdoor est.)   \n",
              "\n",
              "                                       Job Description  Rating  \\\n",
              "0    Data Scientist\\nLocation: Albuquerque, NM\\nEdu...     3.8   \n",
              "1    What You Will Do:\\n\\nI. General Summary\\n\\nThe...     3.4   \n",
              "2    KnowBe4, Inc. is a high growth information sec...     4.8   \n",
              "3    *Organization and Job ID**\\nJob ID: 310709\\n\\n...     3.8   \n",
              "4    Data Scientist\\nAffinity Solutions / Marketing...     2.9   \n",
              "..                                                 ...     ...   \n",
              "950  Site Name: USA - Massachusetts - Cambridge\\nPo...     3.9   \n",
              "951  THE CHALLENGE\\nEventbrite has a world-class da...     4.4   \n",
              "952  The Auton Lab at Carnegie Mellon University is...     2.6   \n",
              "953  Data Science ManagerResponsibilities:\\n\\nOvers...     3.2   \n",
              "955  Returning Candidate? Log back in to the Career...     3.6   \n",
              "\n",
              "                                   Company Name         Location  \\\n",
              "0                        Tecolote Research\\n3.8  Albuquerque, NM   \n",
              "1    University of Maryland Medical System\\n3.4    Linthicum, MD   \n",
              "2                                  KnowBe4\\n4.8   Clearwater, FL   \n",
              "3                                     PNNL\\n3.8     Richland, WA   \n",
              "4                       Affinity Solutions\\n2.9     New York, NY   \n",
              "..                                          ...              ...   \n",
              "950                                    GSK\\n3.9    Cambridge, MA   \n",
              "951                             Eventbrite\\n4.4    Nashville, TN   \n",
              "952         Software Engineering Institute\\n2.6   Pittsburgh, PA   \n",
              "953                           Numeric, LLC\\n3.2    Allentown, PA   \n",
              "955           Riverside Research Institute\\n3.6  Beavercreek, OH   \n",
              "\n",
              "                  Headquarters                    Size  Founded  \\\n",
              "0                   Goleta, CA   501 to 1000 employees     1973   \n",
              "1                Baltimore, MD        10000+ employees     1984   \n",
              "2               Clearwater, FL   501 to 1000 employees     2010   \n",
              "3                 Richland, WA  1001 to 5000 employees     1965   \n",
              "4                 New York, NY     51 to 200 employees     1998   \n",
              "..                         ...                     ...      ...   \n",
              "950  Brentford, United Kingdom        10000+ employees     1830   \n",
              "951          San Francisco, CA  1001 to 5000 employees     2006   \n",
              "952             Pittsburgh, PA   501 to 1000 employees     1984   \n",
              "953            Chadds Ford, PA       1 to 50 employees       -1   \n",
              "955              Arlington, VA   501 to 1000 employees     1967   \n",
              "\n",
              "          Type of ownership                          Industry  \\\n",
              "0         Company - Private               Aerospace & Defense   \n",
              "1        Other Organization  Health Care Services & Hospitals   \n",
              "2         Company - Private                 Security Services   \n",
              "3                Government                            Energy   \n",
              "4         Company - Private           Advertising & Marketing   \n",
              "..                      ...                               ...   \n",
              "950        Company - Public         Biotech & Pharmaceuticals   \n",
              "951        Company - Public                          Internet   \n",
              "952    College / University           Colleges & Universities   \n",
              "953       Company - Private            Staffing & Outsourcing   \n",
              "955  Nonprofit Organization                  Federal Agencies   \n",
              "\n",
              "                           Sector                           Revenue  \\\n",
              "0             Aerospace & Defense         $50 to $100 million (USD)   \n",
              "1                     Health Care            $2 to $5 billion (USD)   \n",
              "2               Business Services        $100 to $500 million (USD)   \n",
              "3    Oil, Gas, Energy & Utilities  $500 million to $1 billion (USD)   \n",
              "4               Business Services          Unknown / Non-Applicable   \n",
              "..                            ...                               ...   \n",
              "950     Biotech & Pharmaceuticals                $10+ billion (USD)   \n",
              "951        Information Technology        $100 to $500 million (USD)   \n",
              "952                     Education          Unknown / Non-Applicable   \n",
              "953             Business Services           $5 to $10 million (USD)   \n",
              "955                    Government         $50 to $100 million (USD)   \n",
              "\n",
              "                                           Competitors  hourly  \\\n",
              "0                                                   -1       0   \n",
              "1                                                   -1       0   \n",
              "2                                                   -1       0   \n",
              "3    Oak Ridge National Laboratory, National Renewa...       0   \n",
              "4                 Commerce Signals, Cardlytics, Yodlee       0   \n",
              "..                                                 ...     ...   \n",
              "950                         Pfizer, AstraZeneca, Merck       0   \n",
              "951                    See Tickets, TicketWeb, Vendini       0   \n",
              "952                                                 -1       0   \n",
              "953                                                 -1       0   \n",
              "955                                                 -1       0   \n",
              "\n",
              "     Employer_provided  \n",
              "0                    0  \n",
              "1                    0  \n",
              "2                    0  \n",
              "3                    0  \n",
              "4                    0  \n",
              "..                 ...  \n",
              "950                  0  \n",
              "951                  0  \n",
              "952                  0  \n",
              "953                  0  \n",
              "955                  0  \n",
              "\n",
              "[742 rows x 17 columns]>"
            ]
          },
          "metadata": {},
          "execution_count": 47
        }
      ]
    },
    {
      "cell_type": "code",
      "source": [
        "min_hr = minus_kd.apply(lambda x: x.lower().replace('per hour','').replace('employer provided salary', ''))"
      ],
      "metadata": {
        "id": "p7DsgItps1Pm"
      },
      "execution_count": 50,
      "outputs": []
    },
    {
      "cell_type": "code",
      "source": [
        "df['min_salary'] = df['min_salary'].astype('str') "
      ],
      "metadata": {
        "colab": {
          "base_uri": "https://localhost:8080/"
        },
        "id": "4d9cEXAF0gpK",
        "outputId": "b2cbd57e-c9f8-47f5-ec8e-6d7ddd9b0b00"
      },
      "execution_count": 61,
      "outputs": [
        {
          "output_type": "stream",
          "name": "stderr",
          "text": [
            "<ipython-input-61-d8a943e85579>:1: SettingWithCopyWarning: \n",
            "A value is trying to be set on a copy of a slice from a DataFrame.\n",
            "Try using .loc[row_indexer,col_indexer] = value instead\n",
            "\n",
            "See the caveats in the documentation: https://pandas.pydata.org/pandas-docs/stable/user_guide/indexing.html#returning-a-view-versus-a-copy\n",
            "  df['min_salary'] = df['min_salary'].astype('str')\n"
          ]
        }
      ]
    },
    {
      "cell_type": "code",
      "source": [
        "df['min_salary'].dtype"
      ],
      "metadata": {
        "colab": {
          "base_uri": "https://localhost:8080/"
        },
        "id": "slKWhyb8z9uS",
        "outputId": "db78b373-c025-4c8e-8fc2-e45a3fe6188d"
      },
      "execution_count": 62,
      "outputs": [
        {
          "output_type": "execute_result",
          "data": {
            "text/plain": [
              "dtype('O')"
            ]
          },
          "metadata": {},
          "execution_count": 62
        }
      ]
    },
    {
      "cell_type": "code",
      "source": [
        "df['min_salary'] = min_hr.apply(lambda x: str(x.split('-')[0]))\n",
        "df['max_salary'] = min_hr.apply(lambda x: str(x.split('-')[1]))"
      ],
      "metadata": {
        "colab": {
          "base_uri": "https://localhost:8080/"
        },
        "id": "qCenarQIyZLE",
        "outputId": "869fe9aa-3e18-41f8-df35-7f410cf2c81e"
      },
      "execution_count": 66,
      "outputs": [
        {
          "output_type": "stream",
          "name": "stderr",
          "text": [
            "<ipython-input-66-ad5209f95d71>:1: SettingWithCopyWarning: \n",
            "A value is trying to be set on a copy of a slice from a DataFrame.\n",
            "Try using .loc[row_indexer,col_indexer] = value instead\n",
            "\n",
            "See the caveats in the documentation: https://pandas.pydata.org/pandas-docs/stable/user_guide/indexing.html#returning-a-view-versus-a-copy\n",
            "  df['min_salary'] = min_hr.apply(lambda x: str(x.split('-')[0]))\n",
            "<ipython-input-66-ad5209f95d71>:2: SettingWithCopyWarning: \n",
            "A value is trying to be set on a copy of a slice from a DataFrame.\n",
            "Try using .loc[row_indexer,col_indexer] = value instead\n",
            "\n",
            "See the caveats in the documentation: https://pandas.pydata.org/pandas-docs/stable/user_guide/indexing.html#returning-a-view-versus-a-copy\n",
            "  df['max_salary'] = min_hr.apply(lambda x: str(x.split('-')[1]))\n"
          ]
        }
      ]
    },
    {
      "cell_type": "code",
      "source": [],
      "metadata": {
        "id": "XJJPGsvCycYL"
      },
      "execution_count": null,
      "outputs": []
    }
  ]
}